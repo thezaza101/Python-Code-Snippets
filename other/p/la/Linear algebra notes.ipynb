{
 "cells": [
  {
   "cell_type": "code",
   "execution_count": 220,
   "metadata": {},
   "outputs": [],
   "source": [
    "import numpy as np\n",
    "import matplotlib.pyplot as plt\n",
    "from mpl_toolkits.mplot3d import Axes3D"
   ]
  },
  {
   "cell_type": "code",
   "execution_count": 221,
   "metadata": {},
   "outputs": [],
   "source": [
    "def plotVectors3d(xs,yz,zs,os=0,col='b'):    \n",
    "    if(xs.shape != ys.shape and xs.shape != zs.shape):\n",
    "        return False    \n",
    "    fig = plt.figure()\n",
    "    ax = fig.add_subplot(111, projection='3d')\n",
    "    ax.quiver(os[:,0],os[:,1],os[:,2],xs,ys,zs,arrow_length_ratio=0.1,color=col)\n",
    "    mx = np.max([xs,ys,zs])\n",
    "    ax.set_xlim([-mx, mx])\n",
    "    ax.set_ylim([-mx, mx])\n",
    "    #ax.view_init(elev=90, azim=90)\n",
    "    plt.show()\n",
    "    \n",
    "def plotVectors2d(x,y,v,col='b',vorigin=np.inf,scale=1.1):    \n",
    "    xs = np.array([x[0],y[0],v[0]])\n",
    "    ys = np.array([x[1],y[1],v[1]])\n",
    "    os = np.array([[0,0],[0,0],[x[0],x[1]]])    \n",
    "    if (vorigin!=np.inf):\n",
    "        os = np.array([[0,0],[0,0],[vorigin[0],vorigin[1]]])\n",
    "    \n",
    "    plt.figure()\n",
    "    ax = plt.gca()\n",
    "    ax.quiver(os[:,0],os[:,1],xs,ys, angles='xy', scale_units='xy', scale=1,color=col)\n",
    "    mx = np.max([x,y,v])*scale\n",
    "    ax.set_xlim([-mx, mx])\n",
    "    ax.set_ylim([-mx, mx])\n",
    "    ax.xaxis.grid(True)\n",
    "    ax.yaxis.grid(True)\n",
    "    plt.show()"
   ]
  },
  {
   "cell_type": "markdown",
   "metadata": {},
   "source": [
    "**What is a vector?**\n",
    "\n",
    "An one-dimensional array of n numbers is a vector of size n.\n",
    "\n",
    "$$\n",
    "x = \\begin{pmatrix}x_{0} \\\\ x_{1} \\\\ ... \\\\ x_{n-1}\\end{pmatrix}\n",
    "$$\n",
    "\n",
    "For example, a vector of size 4 can be defined as:\n",
    "$$\n",
    "\\begin{pmatrix}5 \\\\ 9 \\\\ 5 \\\\ 7\\end{pmatrix}\n",
    "$$\n",
    "\n",
    "A vector is an *ordered array*. The position of elements is important.\n",
    "\n",
    "A item in a vector can be referred to as the *i*th element or component, where *i* denotes the *n*th element in the vector."
   ]
  },
  {
   "cell_type": "markdown",
   "metadata": {},
   "source": [
    "**Direction...**"
   ]
  },
  {
   "cell_type": "code",
   "execution_count": 227,
   "metadata": {},
   "outputs": [
    {
     "data": {
      "image/png": "[encoded data removed]",
      "text/plain": [
       "<Figure size 432x288 with 1 Axes>"
      ]
     },
     "metadata": {
      "needs_background": "light"
     },
     "output_type": "display_data"
    },
    {
     "data": {
      "text/plain": [
       "array([1, 6])"
      ]
     },
     "execution_count": 227,
     "metadata": {},
     "output_type": "execute_result"
    }
   ],
   "source": [
    "def dirTo(x,y):\n",
    "    if(x.shape[0] != y.shape[0]):return False\n",
    "    xy=zip(x,y)\n",
    "    return np.array([y-x for x,y in xy])\n",
    "\n",
    "x=np.array([1,-3])\n",
    "y=np.array([2,3])\n",
    "v = dirTo(x,y)\n",
    "\n",
    "plotVectors2d(x,y,v,['b','b','g'],np.inf,0.6)\n",
    "v"
   ]
  },
  {
   "cell_type": "markdown",
   "metadata": {},
   "source": [
    "**Vector length, Euclidean length, vector magnitude**\n",
    "\n",
    "$$\n",
    "l = \\sqrt{x_{0}^{2}+x_{1}^{2}+x_{2}^{2}+...+x_{n-1}^{2}}\n",
    "$$\n",
    "\n",
    "e.g.\n",
    "Define x as:\n",
    "$$\n",
    "x = \\begin{pmatrix}5 \\\\ 9 \\\\ 5 \\\\ 7\\end{pmatrix}\n",
    "$$\n",
    "\n",
    "The length of x is defined as:\n",
    "$$\n",
    "l(x) = \\sqrt{5^{2}+9^{2}+5^{2}+4^{2}}\n",
    "$$"
   ]
  },
  {
   "cell_type": "code",
   "execution_count": 187,
   "metadata": {},
   "outputs": [
    {
     "data": {
      "text/plain": [
       "13.416407864998739"
      ]
     },
     "execution_count": 187,
     "metadata": {},
     "output_type": "execute_result"
    }
   ],
   "source": [
    "x = np.array([5,9,5,7])\n",
    "\n",
    "def length(v):\n",
    "    # vector  = x ^ 2\n",
    "    vPow = np.power(v,2)\n",
    "    # Sum all the elements in the vector\n",
    "    vSum = np.sum(vPow)\n",
    "    # Square root of the sum\n",
    "    vSqurt = np.sqrt(vSum)\n",
    "    return vSqurt\n",
    "\n",
    "length(x)"
   ]
  },
  {
   "cell_type": "markdown",
   "metadata": {},
   "source": [
    "**Unit basis vectors**\n",
    "\n",
    "An important set of vectors is the set of unit basis vectors\n",
    "\n",
    "$$\n",
    "x_{j} = \\begin{pmatrix}0 \\\\ 0 \\\\ 1 \\\\ 0 \\\\ 0\\end{pmatrix}\n",
    "$$\n",
    "\n",
    "The j represents the position of 1 in a vector of size n, in the above example j = 2, n = 5.\n",
    "\n",
    "$$\n",
    "x_{0} = \\begin{pmatrix}1 \\\\ 0 \\\\ 0 \\\\ 0 \\\\ 0\\end{pmatrix}, x_{1} = \\begin{pmatrix}0 \\\\ 1 \\\\ 0 \\\\ 0 \\\\ 0\\end{pmatrix},  x_{n-1} = \\begin{pmatrix}0 \\\\ 0 \\\\ 0 \\\\ 0 \\\\ 1\\end{pmatrix}\n",
    "$$\n",
    "\n"
   ]
  },
  {
   "cell_type": "code",
   "execution_count": 188,
   "metadata": {},
   "outputs": [
    {
     "data": {
      "text/plain": [
       "array([0, 0, 1, 0, 0])"
      ]
     },
     "execution_count": 188,
     "metadata": {},
     "output_type": "execute_result"
    }
   ],
   "source": [
    "j = 2\n",
    "n = 5\n",
    "\n",
    "def makeUnitBasisVector(j,n):\n",
    "    return np.array([1 if (x is j) else 0 for x in range(0,n)])\n",
    "\n",
    "makeUnitBasisVector(j,n)"
   ]
  },
  {
   "cell_type": "markdown",
   "metadata": {},
   "source": [
    "**Equality (=)**\n",
    "\n",
    "A vector is equal to another vector if and only if all of the elements in the vector are equal\n",
    "\n",
    "$$\n",
    "x = \\begin{pmatrix}x_{0} \\\\x_{1} \\\\x_{2} \\\\... \\\\x_{n-1}\\end{pmatrix}, y = \\begin{pmatrix}y_{0} \\\\y_{1} \\\\y_{2} \\\\... \\\\y_{n-1}\\end{pmatrix}, (x=y) = \\begin{pmatrix}x_{0}=y_{0} \\\\x_{1}=y_{1} \\\\x_{2}=y_{2} \\\\... \\\\x_{n-1}=y_{n-1}\\end{pmatrix}\n",
    "$$"
   ]
  },
  {
   "cell_type": "code",
   "execution_count": 189,
   "metadata": {},
   "outputs": [
    {
     "data": {
      "text/plain": [
       "True"
      ]
     },
     "execution_count": 189,
     "metadata": {},
     "output_type": "execute_result"
    }
   ],
   "source": [
    "x = np.array([5,9,5,7])\n",
    "y = np.array([5,1,4,1])\n",
    "y1 = np.array([5,9,5,7])\n",
    "\n",
    "def equal(x,y):\n",
    "    if(x.shape[0] != y.shape[0]):return False\n",
    "    for i in range(0, x.shape[0]):\n",
    "        if(x[i]!=y[i]):return False\n",
    "    return True\n",
    "\n",
    "    \n",
    "equal(x,y1)"
   ]
  },
  {
   "cell_type": "markdown",
   "metadata": {},
   "source": [
    "**Assignment (:=) / copy**\n",
    "\n",
    "The assignment or copy operation assigns the content of one vector to another vector. In our mathematical notation, we will denote this by the symbol **:=** (pronounce:becomes). After the assignment, the two vectors are equal to each other.\n",
    "\n"
   ]
  },
  {
   "cell_type": "markdown",
   "metadata": {},
   "source": [
    "**Vector addition**\n",
    "\n",
    "$$\n",
    "x = \\begin{pmatrix}x_{0} \\\\x_{1} \\\\x_{2} \\\\... \\\\x_{n-1}\\end{pmatrix}, y = \\begin{pmatrix}y_{0} \\\\y_{1} \\\\y_{2} \\\\... \\\\y_{n-1}\\end{pmatrix}, x + y = \\begin{pmatrix}x_{0}+y_{0} \\\\x_{1}+y_{1} \\\\x_{2}+y_{2} \\\\... \\\\x_{n-1}+y_{n-1}\\end{pmatrix}\n",
    "$$"
   ]
  },
  {
   "cell_type": "code",
   "execution_count": 190,
   "metadata": {},
   "outputs": [
    {
     "data": {
      "image/png": "[encoded data removed]",
      "text/plain": [
       "<Figure size 432x288 with 1 Axes>"
      ]
     },
     "metadata": {
      "needs_background": "light"
     },
     "output_type": "display_data"
    },
    {
     "data": {
      "text/plain": [
       "array([7, 7])"
      ]
     },
     "execution_count": 190,
     "metadata": {},
     "output_type": "execute_result"
    }
   ],
   "source": [
    "def Add(x,y):\n",
    "    if(x.shape[0] != y.shape[0]):return False\n",
    "    xy=zip(x,y)\n",
    "    return np.array([x+y for x,y in xy])\n",
    "\n",
    "x=np.array([1,5])\n",
    "y=np.array([6,2])\n",
    "v = Add(x,y)   \n",
    "plotVectors2d(x,y,v,['b','b','g'],[0,0])\n",
    "v"
   ]
  },
  {
   "cell_type": "markdown",
   "metadata": {},
   "source": [
    "**Scaling**\n",
    "\n",
    "\n",
    "$$\n",
    "x = \\begin{pmatrix}x_{0} \\\\x_{1} \\\\x_{2} \\\\... \\\\x_{n-1}\\end{pmatrix}, a = 2, ax = \\begin{pmatrix}a.x_{0} \\\\a.x_{1} \\\\a.x_{2} \\\\... \\\\a.x_{n-1}\\end{pmatrix}\n",
    "$$"
   ]
  },
  {
   "cell_type": "code",
   "execution_count": 192,
   "metadata": {},
   "outputs": [
    {
     "data": {
      "image/png": "[encoded data removed]",
      "text/plain": [
       "<Figure size 432x288 with 1 Axes>"
      ]
     },
     "metadata": {
      "needs_background": "light"
     },
     "output_type": "display_data"
    },
    {
     "data": {
      "text/plain": [
       "array([-4,  4])"
      ]
     },
     "execution_count": 192,
     "metadata": {},
     "output_type": "execute_result"
    }
   ],
   "source": [
    "x=np.array([-2,2])\n",
    "a = 2\n",
    "\n",
    "def Scale(x,a):\n",
    "    return np.array([a*p for p in x])\n",
    "\n",
    "v = Scale(x,a)\n",
    "plotVectors2d(x,x,v,['b','b','g'],[0,0],1.5)\n",
    "v"
   ]
  },
  {
   "cell_type": "markdown",
   "metadata": {},
   "source": [
    "**Vector Subtraction**\n",
    "\n",
    "$$\n",
    "x = \\begin{pmatrix}x_{0} \\\\x_{1} \\\\x_{2} \\\\... \\\\x_{n-1}\\end{pmatrix}, y = \\begin{pmatrix}y_{0} \\\\y_{1} \\\\y_{2} \\\\... \\\\y_{n-1}\\end{pmatrix}, x - y = \\begin{pmatrix}x_{0}-y_{0} \\\\x_{1}-y_{1} \\\\x_{2}-y_{2} \\\\... \\\\x_{n-1}-y_{n-1}\\end{pmatrix}\n",
    "$$\n"
   ]
  },
  {
   "cell_type": "code",
   "execution_count": 193,
   "metadata": {},
   "outputs": [
    {
     "data": {
      "image/png": "[encoded data removed]",
      "text/plain": [
       "<Figure size 432x288 with 1 Axes>"
      ]
     },
     "metadata": {
      "needs_background": "light"
     },
     "output_type": "display_data"
    },
    {
     "data": {
      "text/plain": [
       "array([ 2, -7])"
      ]
     },
     "execution_count": 193,
     "metadata": {},
     "output_type": "execute_result"
    }
   ],
   "source": [
    "x=np.array([4,-2])\n",
    "y=np.array([2,5])\n",
    "\n",
    "\n",
    "def Subtract(x,y):\n",
    "    if(x.shape[0] != y.shape[0]):return False\n",
    "    xy=zip(x,y)\n",
    "    return np.array([x-y for x,y in xy])\n",
    "\n",
    "v = Subtract(x,y)   \n",
    "plotVectors2d(x,y,v,['b','b','g'],list(y))\n",
    "v"
   ]
  },
  {
   "cell_type": "markdown",
   "metadata": {},
   "source": [
    "**Scaled Vector Addition (AXPY)**\n",
    "\n",
    "It is often referred to as the AXPY operation, which stands for alpha (a) times x plus y. \n",
    "\n",
    "$$\n",
    "x = \\begin{pmatrix}x_{0} \\\\x_{1} \\\\x_{2} \\\\... \\\\x_{n-1}\\end{pmatrix}, y = \\begin{pmatrix}y_{0} \\\\y_{1} \\\\y_{2} \\\\... \\\\y_{n-1}\\end{pmatrix}, a = 2, ax + y = \\begin{pmatrix}a.x_{0}+y_{0} \\\\a.x_{1}+y_{1} \\\\a.x_{2}+y_{2} \\\\... \\\\a.x_{n-1}+y_{n-1}\\end{pmatrix}\n",
    "$$"
   ]
  },
  {
   "cell_type": "code",
   "execution_count": 197,
   "metadata": {},
   "outputs": [
    {
     "data": {
      "image/png": "[encoded data removed]",
      "text/plain": [
       "<Figure size 432x288 with 1 Axes>"
      ]
     },
     "metadata": {
      "needs_background": "light"
     },
     "output_type": "display_data"
    },
    {
     "data": {
      "text/plain": [
       "array([-5,  2])"
      ]
     },
     "execution_count": 197,
     "metadata": {},
     "output_type": "execute_result"
    }
   ],
   "source": [
    "x=np.array([-1,2])\n",
    "a = 2\n",
    "y=np.array([-3,-2])\n",
    "\n",
    "\n",
    "def AXPY(x,a,y):\n",
    "    if(x.shape[0] != y.shape[0]):return False\n",
    "    xy=zip(x,y)\n",
    "    return np.array([(a*x)+y for x,y in xy])\n",
    "\n",
    "v = AXPY(x,a,y)   \n",
    "plotVectors2d(x,y,v,['b','b','g'],[0,0],2.6)\n",
    "v"
   ]
  },
  {
   "cell_type": "markdown",
   "metadata": {},
   "source": [
    "**Linear Combinations of Vectors**\n",
    "\n",
    "$$\n",
    "x = \\begin{pmatrix}x_{0} \\\\x_{1} \\\\x_{2} \\\\... \\\\x_{n-1}\\end{pmatrix}, y = \\begin{pmatrix}y_{0} \\\\y_{1} \\\\y_{2} \\\\... \\\\y_{n-1}\\end{pmatrix}, a = 2,b = 2, ax + by = \\begin{pmatrix}a.x_{0}+b.y_{0} \\\\a.x_{1}+b.y_{1} \\\\a.x_{2}+b.y_{2} \\\\... \\\\a.x_{n-1}+b.y_{n-1}\\end{pmatrix}\n",
    "$$\n"
   ]
  },
  {
   "cell_type": "code",
   "execution_count": 182,
   "metadata": {},
   "outputs": [
    {
     "data": {
      "image/png": "[encoded data removed]",
      "text/plain": [
       "<Figure size 432x288 with 1 Axes>"
      ]
     },
     "metadata": {
      "needs_background": "light"
     },
     "output_type": "display_data"
    },
    {
     "data": {
      "text/plain": [
       "array([-1, 15])"
      ]
     },
     "execution_count": 182,
     "metadata": {},
     "output_type": "execute_result"
    }
   ],
   "source": [
    "x=np.array([1,3])\n",
    "a = 3\n",
    "y=np.array([-2,3])\n",
    "b = 2\n",
    "\n",
    "\n",
    "def LCV(x,a,y,b):\n",
    "    if(x.shape[0] != y.shape[0]):return False\n",
    "    xy=zip(x,y)\n",
    "    return np.array([(a*x)+(b*y) for x,y in xy])\n",
    "\n",
    "v = LCV(x,a,y,b)     \n",
    "plotVectors2d(x,y,v,['b','b','g'],[0,0],1.1)\n",
    "v"
   ]
  },
  {
   "cell_type": "code",
   "execution_count": 11,
   "metadata": {},
   "outputs": [
    {
     "data": {
      "text/plain": [
       "array([-3,  2,  4])"
      ]
     },
     "execution_count": 11,
     "metadata": {},
     "output_type": "execute_result"
    }
   ],
   "source": [
    "x = np.array([np.array([1,0,0]),\n",
    "              np.array([0,1,0]),\n",
    "              np.array([0,0,1])])\n",
    "s = [-3,2,4]\n",
    "def LCVG(x,s):\n",
    "    leng = x[0].shape[0]\n",
    "    sm = np.zeros(shape=leng,dtype=np.int)\n",
    "    for i in range(0, x.shape[0]):\n",
    "        if (x[i].shape[0]!=leng):return False\n",
    "        sm = Add(sm,np.array([s[i]*p for p in x[i]]))\n",
    "    return sm\n",
    "\n",
    "LCVG(x,s)"
   ]
  },
  {
   "cell_type": "markdown",
   "metadata": {},
   "source": [
    "**Dot or Inner Product**\n",
    "\n",
    "Slice/dice example in 2nd codeblock\n",
    "$$\n",
    "x = \\begin{pmatrix}x_{0} \\\\x_{1} \\\\x_{2} \\\\... \\\\x_{n-1}\\end{pmatrix}, y = \\begin{pmatrix}y_{0} \\\\y_{1} \\\\y_{2} \\\\... \\\\y_{n-1}\\end{pmatrix}, dot(x, y) = \\begin{pmatrix}x_{0}.y_{0} \\\\x_{1}.y_{1} \\\\x_{2}.y_{2} \\\\... \\\\x_{n-1}.y_{n-1}\\end{pmatrix}\n",
    "$$\n",
    "\n"
   ]
  },
  {
   "cell_type": "code",
   "execution_count": 203,
   "metadata": {},
   "outputs": [
    {
     "data": {
      "text/plain": [
       "2"
      ]
     },
     "execution_count": 203,
     "metadata": {},
     "output_type": "execute_result"
    }
   ],
   "source": [
    "def Dot(x,y):\n",
    "    if(x.shape[0] != y.shape[0]):return False\n",
    "    xy=zip(x.T,y)\n",
    "    return np.sum([x*y for x,y in xy])\n",
    "\n",
    "\n",
    "x=np.array([1,1,1,1])\n",
    "y=np.array([2,5,-6,1])\n",
    "Dot(x,y)"
   ]
  },
  {
   "cell_type": "code",
   "execution_count": 202,
   "metadata": {},
   "outputs": [
    {
     "data": {
      "text/plain": [
       "2"
      ]
     },
     "execution_count": 202,
     "metadata": {},
     "output_type": "execute_result"
    }
   ],
   "source": [
    "def DotSlice(x,y):\n",
    "    if(x.shape[0] != y.shape[0]):return False\n",
    "    a = 0  \n",
    "    xy=zip(x.T,y)\n",
    "    for x,y in xy:\n",
    "        a += (x*y)        \n",
    "    return a\n",
    "\n",
    "x=np.array([1,1,1,1])\n",
    "y=np.array([2,5,-6,1])\n",
    "DotSlice(x,y)"
   ]
  },
  {
   "cell_type": "markdown",
   "metadata": {},
   "source": [
    "**Vector Length (norm2)**\n",
    "\n",
    "Note that $$ \\left \\| x \\right \\|_{2} $$ means the norm2 of x.\n",
    "\n",
    "$$\n",
    "\\left \\| x \\right \\|_{2} = \\sqrt{\\sum_{i=0}^{n-1}x_{i}^{2}}\n",
    "$$\n",
    "\n",
    "$$\n",
    "\\left \\| x \\right \\|_{2} = \\sqrt{dot(x,x)}\n",
    "$$"
   ]
  },
  {
   "cell_type": "code",
   "execution_count": 13,
   "metadata": {},
   "outputs": [
    {
     "name": "stdout",
     "output_type": "stream",
     "text": [
      "3.0\n",
      "3.0\n"
     ]
    }
   ],
   "source": [
    "x=np.array([1,-2,2])\n",
    "\n",
    "def Norm2Length(x):\n",
    "    return np.sqrt(Dot(x,x))\n",
    "\n",
    "print(Norm2Length(x))\n",
    "print(length(x))"
   ]
  },
  {
   "cell_type": "markdown",
   "metadata": {},
   "source": [
    "**Taxi-cab norm (norm1)**\n",
    "\n",
    "It is sometimes called the taxi-cab norm because it is the distance, in blocks, that a taxi would need to drive in a city like New York, where the streets are laid out like a grid.\n",
    "\n",
    "$$\n",
    "\\left \\| x \\right \\|_{1} = \\sqrt{\\sum_{i=0}^{n-1}x_{i}^{1}}\n",
    "$$"
   ]
  },
  {
   "cell_type": "code",
   "execution_count": 210,
   "metadata": {},
   "outputs": [
    {
     "name": "stdout",
     "output_type": "stream",
     "text": [
      "5.0\n"
     ]
    }
   ],
   "source": [
    "x=np.array([1,2,2])\n",
    "\n",
    "def Norm1Length(x):\n",
    "    return Dot(x,np.ones(x.shape))\n",
    "\n",
    "print(Norm1Length(x))"
   ]
  },
  {
   "cell_type": "markdown",
   "metadata": {},
   "source": [
    "**Linear Transformations**\n",
    "\n",
    "A vector function L is a linear transformation if\n",
    "- You can scale first and then transform or transform first and then scale:\n",
    "$$\n",
    "L(ax) = aL(x)\n",
    "$$\n",
    "- You can transform first and then sum or sum first and then transform:\n",
    "$$\n",
    "L(x+y) = L(x)+L(y)\n",
    "$$"
   ]
  },
  {
   "cell_type": "markdown",
   "metadata": {},
   "source": [
    "**General Function vs Linear Function vs Linear Transformations**\n",
    "\n",
    "It depends of your background how I can explain it. First I will assume you have taken high school algebra. Then I will explain if you have also taken pre-cal or calculus.\n",
    "\n",
    "In high school algebras, functions are key. Functions take inputs each to exactly one output.. One way of describing a function is to give a rule and describe possible inputs. In high school, these inputs and outputs usually were real numbers. Now in linear algebra, the inputs and outputs can be vectors.\n",
    "\n",
    "In high school you talked about special functions. For example, linear functions and quadratics came into play. Linear functions were very important because they had some special properties (the most important was slope ---change in y over change in x stayed the same for all pairs of inputs, s, and outputs, y. So you could determine that you were dealing with a function that was a linear function because it was in the form f(x)-mx+b ---special. Now in linear algebra, there are special vector functions called linear transformations that ate sorta extensions of the lines we ran into in algebra. They have special properties and we are going to see they are the foundations of linear algebra. This is what we start seeing in week 2. We can determine if we are dealing with a vector function that is a linear trnasformation by looking to see if it satisfies the properties that linear transformations must satisfy.\n",
    "\n",
    "Now why are these important? Well, in calculus, you may have learned that functions can be approximated locally by linear functions. In practice when we have many quantities and have complcated vector functions, locally we approximate these using linear transformations.\n",
    "\n",
    "Hope this helps."
   ]
  },
  {
   "cell_type": "code",
   "execution_count": null,
   "metadata": {},
   "outputs": [],
   "source": []
  },
  {
   "cell_type": "code",
   "execution_count": null,
   "metadata": {},
   "outputs": [],
   "source": []
  }
 ],
 "metadata": {
  "kernelspec": {
   "display_name": "Python 3",
   "language": "python",
   "name": "python3"
  },
  "language_info": {
   "codemirror_mode": {
    "name": "ipython",
    "version": 3
   },
   "file_extension": ".py",
   "mimetype": "text/x-python",
   "name": "python",
   "nbconvert_exporter": "python",
   "pygments_lexer": "ipython3",
   "version": "3.7.1"
  }
 },
 "nbformat": 4,
 "nbformat_minor": 2
}
