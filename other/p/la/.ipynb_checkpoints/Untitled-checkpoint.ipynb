{
 "cells": [
  {
   "cell_type": "code",
   "execution_count": 62,
   "metadata": {},
   "outputs": [],
   "source": [
    "import numpy as np"
   ]
  },
  {
   "cell_type": "markdown",
   "metadata": {},
   "source": [
    "**What is a vector?**\n",
    "\n",
    "An one-dimensional array of n numbers is a vector of size n.\n",
    "\n",
    "$$\n",
    "x = \\begin{pmatrix}x_{0} \\\\ x_{1} \\\\ ... \\\\ x_{n-1}\\end{pmatrix}\n",
    "$$\n",
    "\n",
    "For example, a vector of size 4 can be defined as:\n",
    "$$\n",
    "\\begin{pmatrix}5 \\\\ 9 \\\\ 5 \\\\ 7\\end{pmatrix}\n",
    "$$\n",
    "\n",
    "A vector is an *ordered array*. The position of elements is important.\n",
    "\n",
    "A item in a vector can be referred to as the *i*th element or component, where *i* denotes the *n*th element in the vector."
   ]
  },
  {
   "cell_type": "markdown",
   "metadata": {},
   "source": []
  },
  {
   "cell_type": "code",
   "execution_count": 43,
   "metadata": {},
   "outputs": [
    {
     "data": {
      "text/plain": [
       "array([-1,  1, -2])"
      ]
     },
     "execution_count": 43,
     "metadata": {},
     "output_type": "execute_result"
    }
   ],
   "source": [
    "x=np.array([1,-1,2])\n",
    "y=np.array([0,0,0])\n",
    "\n",
    "\n",
    "def dirTo(x,y):\n",
    "    if(x.shape[0] != y.shape[0]):return False\n",
    "    xy=zip(x,y)\n",
    "    return np.array([y-x for x,y in xy])\n",
    "\n",
    "dirTo(x,y)   "
   ]
  },
  {
   "cell_type": "markdown",
   "metadata": {},
   "source": [
    "**Vector length, Euclidean length, vector magnitude**\n",
    "\n",
    "$$\n",
    "l = \\sqrt{x_{0}^{2}+x_{1}^{2}+x_{2}^{2}+...+x_{n-1}^{2}}\n",
    "$$\n",
    "\n",
    "e.g.\n",
    "Define x as:\n",
    "$$\n",
    "x = \\begin{pmatrix}5 \\\\ 9 \\\\ 5 \\\\ 7\\end{pmatrix}\n",
    "$$\n",
    "\n",
    "The length of x is defined as:\n",
    "$$\n",
    "l(x) = \\sqrt{5^{2}+9^{2}+5^{2}+4^{2}}\n",
    "$$"
   ]
  },
  {
   "cell_type": "code",
   "execution_count": 9,
   "metadata": {},
   "outputs": [
    {
     "data": {
      "text/plain": [
       "13.416407864998739"
      ]
     },
     "execution_count": 9,
     "metadata": {},
     "output_type": "execute_result"
    }
   ],
   "source": [
    "x = np.array([5,9,5,7])\n",
    "\n",
    "def length(v):\n",
    "    # vector  = x ^ 2\n",
    "    vPow = np.power(v,2)\n",
    "    # Sum all the elements in the vector\n",
    "    vSum = np.sum(vPow)\n",
    "    # Square root of the sum\n",
    "    vSqurt = np.sqrt(vSum)\n",
    "    return vSqurt\n",
    "\n",
    "length(x)"
   ]
  },
  {
   "cell_type": "markdown",
   "metadata": {},
   "source": [
    "**Unit basis vectors**\n",
    "\n",
    "An important set of vectors is the set of unit basis vectors\n",
    "\n",
    "$$\n",
    "x_{j} = \\begin{pmatrix}0 \\\\ 0 \\\\ 1 \\\\ 0 \\\\ 0\\end{pmatrix}\n",
    "$$\n",
    "\n",
    "The j represents the position of 1 in a vector of size n, in the above example j = 2, n = 5.\n",
    "\n",
    "$$\n",
    "x_{0} = \\begin{pmatrix}1 \\\\ 0 \\\\ 0 \\\\ 0 \\\\ 0\\end{pmatrix}, x_{1} = \\begin{pmatrix}0 \\\\ 1 \\\\ 0 \\\\ 0 \\\\ 0\\end{pmatrix},  x_{n-1} = \\begin{pmatrix}0 \\\\ 0 \\\\ 0 \\\\ 0 \\\\ 1\\end{pmatrix}\n",
    "$$\n",
    "\n"
   ]
  },
  {
   "cell_type": "code",
   "execution_count": 57,
   "metadata": {},
   "outputs": [
    {
     "data": {
      "text/plain": [
       "array([0, 0, 1, 0, 0])"
      ]
     },
     "execution_count": 57,
     "metadata": {},
     "output_type": "execute_result"
    }
   ],
   "source": [
    "j = 2\n",
    "n = 5\n",
    "\n",
    "def makeUnitBasisVector(j,n):\n",
    "    return np.array([1 if (x is j) else 0 for x in range(0,n)])\n",
    "\n",
    "makeUnitBasisVector(j,n)"
   ]
  },
  {
   "cell_type": "markdown",
   "metadata": {},
   "source": [
    "**Equality (=)**\n",
    "\n",
    "A vector is equal to another vector if and only if all of the elements in the vector are equal\n",
    "\n",
    "$$\n",
    "x = \\begin{pmatrix}x_{0} \\\\x_{1} \\\\x_{2} \\\\... \\\\x_{n-1}\\end{pmatrix}, y = \\begin{pmatrix}y_{0} \\\\y_{1} \\\\y_{2} \\\\... \\\\y_{n-1}\\end{pmatrix}, (x=y) = \\begin{pmatrix}x_{0}=y_{0} \\\\x_{1}=y_{1} \\\\x_{2}=y_{2} \\\\... \\\\x_{n-1}=y_{n-1}\\end{pmatrix}\n",
    "$$"
   ]
  },
  {
   "cell_type": "code",
   "execution_count": 33,
   "metadata": {},
   "outputs": [
    {
     "data": {
      "text/plain": [
       "array([ True, False, False, False])"
      ]
     },
     "execution_count": 33,
     "metadata": {},
     "output_type": "execute_result"
    }
   ],
   "source": [
    "x = np.array([5,9,5,7])\n",
    "y = np.array([5,1,4,1])\n",
    "y1 = np.array([5,9,5,7])\n",
    "\n",
    "def equal(x,y):\n",
    "    if(x.shape[0] != y.shape[0]):return False\n",
    "    for i in range(0, x.shape[0]):\n",
    "        if(x[i]!=y[i]):return False\n",
    "    return True\n",
    "\n",
    "    \n",
    "equal(x,y1)"
   ]
  },
  {
   "cell_type": "markdown",
   "metadata": {},
   "source": [
    "**Assignment (:=) / copy**\n",
    "\n",
    "The assignment or copy operation assigns the content of one vector to another vector. In our mathematical notation, we will denote this by the symbol **:=** (pronounce:becomes). After the assignment, the two vectors are equal to each other.\n",
    "\n"
   ]
  },
  {
   "cell_type": "markdown",
   "metadata": {},
   "source": [
    "**Vector addition**\n",
    "\n",
    "$$\n",
    "x = \\begin{pmatrix}x_{0} \\\\x_{1} \\\\x_{2} \\\\... \\\\x_{n-1}\\end{pmatrix}, y = \\begin{pmatrix}y_{0} \\\\y_{1} \\\\y_{2} \\\\... \\\\y_{n-1}\\end{pmatrix}, x + y = \\begin{pmatrix}x_{0}+y_{0} \\\\x_{1}+y_{1} \\\\x_{2}+y_{2} \\\\... \\\\x_{n-1}+y_{n-1}\\end{pmatrix}\n",
    "$$"
   ]
  },
  {
   "cell_type": "code",
   "execution_count": 46,
   "metadata": {},
   "outputs": [
    {
     "data": {
      "text/plain": [
       "array([-4,  0])"
      ]
     },
     "execution_count": 46,
     "metadata": {},
     "output_type": "execute_result"
    }
   ],
   "source": [
    "x=np.array([-1,2])\n",
    "y=np.array([-3,-2])\n",
    "\n",
    "\n",
    "def Add(x,y):\n",
    "    if(x.shape[0] != y.shape[0]):return False\n",
    "    xy=zip(x,y)\n",
    "    return np.array([x+y for x,y in xy])\n",
    "\n",
    "Add(x,y)   "
   ]
  },
  {
   "cell_type": "markdown",
   "metadata": {},
   "source": [
    "**Scaling**\n",
    "\n",
    "\n",
    "$$\n",
    "x = \\begin{pmatrix}x_{0} \\\\x_{1} \\\\x_{2} \\\\... \\\\x_{n-1}\\end{pmatrix}, a = 2, ax = \\begin{pmatrix}a.x_{0} \\\\a.x_{1} \\\\a.x_{2} \\\\... \\\\a.x_{n-1}\\end{pmatrix}\n",
    "$$"
   ]
  },
  {
   "cell_type": "code",
   "execution_count": 49,
   "metadata": {},
   "outputs": [
    {
     "data": {
      "text/plain": [
       "array([-2,  4])"
      ]
     },
     "execution_count": 49,
     "metadata": {},
     "output_type": "execute_result"
    }
   ],
   "source": [
    "x=np.array([-1,2])\n",
    "a = 2\n",
    "\n",
    "def Scale(x,a):\n",
    "    return np.array([a*p for p in x])\n",
    "\n",
    "Scale(x,a)"
   ]
  },
  {
   "cell_type": "markdown",
   "metadata": {},
   "source": [
    "**Vector Subtraction**\n",
    "\n",
    "$$\n",
    "x = \\begin{pmatrix}x_{0} \\\\x_{1} \\\\x_{2} \\\\... \\\\x_{n-1}\\end{pmatrix}, y = \\begin{pmatrix}y_{0} \\\\y_{1} \\\\y_{2} \\\\... \\\\y_{n-1}\\end{pmatrix}, x - y = \\begin{pmatrix}x_{0}-y_{0} \\\\x_{1}-y_{1} \\\\x_{2}-y_{2} \\\\... \\\\x_{n-1}-y_{n-1}\\end{pmatrix}\n",
    "$$\n"
   ]
  },
  {
   "cell_type": "code",
   "execution_count": 50,
   "metadata": {},
   "outputs": [
    {
     "data": {
      "text/plain": [
       "array([2, 4])"
      ]
     },
     "execution_count": 50,
     "metadata": {},
     "output_type": "execute_result"
    }
   ],
   "source": [
    "x=np.array([-1,2])\n",
    "y=np.array([-3,-2])\n",
    "\n",
    "\n",
    "def Subtract(x,y):\n",
    "    if(x.shape[0] != y.shape[0]):return False\n",
    "    xy=zip(x,y)\n",
    "    return np.array([x-+y for x,y in xy])\n",
    "\n",
    "Subtract(x,y)   "
   ]
  },
  {
   "cell_type": "markdown",
   "metadata": {},
   "source": [
    "**Scaled Vector Addition (AXPY)**\n",
    "\n",
    "It is often referred to as the AXPY operation, which stands for alpha (a) times x plus y. \n",
    "\n",
    "$$\n",
    "x = \\begin{pmatrix}x_{0} \\\\x_{1} \\\\x_{2} \\\\... \\\\x_{n-1}\\end{pmatrix}, y = \\begin{pmatrix}y_{0} \\\\y_{1} \\\\y_{2} \\\\... \\\\y_{n-1}\\end{pmatrix}, a = 2, ax + y = \\begin{pmatrix}a.x_{0}+y_{0} \\\\a.x_{1}+y_{1} \\\\a.x_{2}+y_{2} \\\\... \\\\a.x_{n-1}+y_{n-1}\\end{pmatrix}\n",
    "$$"
   ]
  },
  {
   "cell_type": "code",
   "execution_count": 53,
   "metadata": {},
   "outputs": [
    {
     "data": {
      "text/plain": [
       "array([-5,  2])"
      ]
     },
     "execution_count": 53,
     "metadata": {},
     "output_type": "execute_result"
    }
   ],
   "source": [
    "x=np.array([-1,2])\n",
    "a = 2\n",
    "y=np.array([-3,-2])\n",
    "\n",
    "\n",
    "def AXPY(x,a,y):\n",
    "    if(x.shape[0] != y.shape[0]):return False\n",
    "    xy=zip(x,y)\n",
    "    return np.array([(a*x)+y for x,y in xy])\n",
    "\n",
    "AXPY(x,a,y)   "
   ]
  },
  {
   "cell_type": "markdown",
   "metadata": {},
   "source": [
    "**Linear Combinations of Vectors**\n",
    "\n",
    "$$\n",
    "x = \\begin{pmatrix}x_{0} \\\\x_{1} \\\\x_{2} \\\\... \\\\x_{n-1}\\end{pmatrix}, y = \\begin{pmatrix}y_{0} \\\\y_{1} \\\\y_{2} \\\\... \\\\y_{n-1}\\end{pmatrix}, a = 2,b = 2, ax + by = \\begin{pmatrix}a.x_{0}+b.y_{0} \\\\a.x_{1}+b.y_{1} \\\\a.x_{2}+b.y_{2} \\\\... \\\\a.x_{n-1}+b.y_{n-1}\\end{pmatrix}\n",
    "$$\n"
   ]
  },
  {
   "cell_type": "code",
   "execution_count": 55,
   "metadata": {},
   "outputs": [
    {
     "data": {
      "text/plain": [
       "array([ 8, 12, -1,  0])"
      ]
     },
     "execution_count": 55,
     "metadata": {},
     "output_type": "execute_result"
    }
   ],
   "source": [
    "x=np.array([2,4,-1,0])\n",
    "a = 3\n",
    "y=np.array([1,0,1,0])\n",
    "b = 2\n",
    "\n",
    "\n",
    "def LCV(x,a,y,b):\n",
    "    if(x.shape[0] != y.shape[0]):return False\n",
    "    xy=zip(x,y)\n",
    "    return np.array([(a*x)+(b*y) for x,y in xy])\n",
    "\n",
    "LCV(x,a,y,b)   "
   ]
  },
  {
   "cell_type": "code",
   "execution_count": 88,
   "metadata": {},
   "outputs": [
    {
     "data": {
      "text/plain": [
       "array([-3,  2,  4])"
      ]
     },
     "execution_count": 88,
     "metadata": {},
     "output_type": "execute_result"
    }
   ],
   "source": [
    "x = np.array([np.array([1,0,0]),\n",
    "              np.array([0,1,0]),\n",
    "              np.array([0,0,1])])\n",
    "s = [-3,2,4]\n",
    "def LCVG(x,s):\n",
    "    leng = x[0].shape[0]\n",
    "    sm = np.zeros(shape=leng,dtype=np.int)\n",
    "    for i in range(0, x.shape[0]):\n",
    "        if (x[i].shape[0]!=leng):return False\n",
    "        sm = Add(sm,np.array([s[i]*p for p in x[i]]))\n",
    "    return sm\n",
    "\n",
    "LCVG(x,s)"
   ]
  },
  {
   "cell_type": "markdown",
   "metadata": {},
   "source": [
    "**Dot or Inner Product**\n",
    "\n",
    "$$\n",
    "x = \\begin{pmatrix}x_{0} \\\\x_{1} \\\\x_{2} \\\\... \\\\x_{n-1}\\end{pmatrix}, y = \\begin{pmatrix}y_{0} \\\\y_{1} \\\\y_{2} \\\\... \\\\y_{n-1}\\end{pmatrix}, dot(x, y) = \\begin{pmatrix}x_{0}.y_{0} \\\\x_{1}.y_{1} \\\\x_{2}.y_{2} \\\\... \\\\x_{n-1}.y_{n-1}\\end{pmatrix}\n",
    "$$\n",
    "\n"
   ]
  },
  {
   "cell_type": "code",
   "execution_count": 96,
   "metadata": {},
   "outputs": [
    {
     "data": {
      "text/plain": [
       "4"
      ]
     },
     "execution_count": 96,
     "metadata": {},
     "output_type": "execute_result"
    }
   ],
   "source": [
    "x=np.array([1,1,1,1])\n",
    "y1=np.array([2,5,-6,1])\n",
    "y2=np.array([1,2,3,4])\n",
    "\n",
    "def Dot(x,y):\n",
    "    if(x.shape[0] != y.shape[0]):return False\n",
    "    xy=zip(x,y)\n",
    "    return np.sum([x*y for x,y in xy])\n",
    "\n",
    "Dot(x,Add(y1,y2))\n"
   ]
  },
  {
   "cell_type": "markdown",
   "metadata": {},
   "source": [
    "**Vector Length (norm2)**\n",
    "\n",
    "$$\n",
    "l = \\sqrt{dot(x,x)}\n",
    "$$"
   ]
  },
  {
   "cell_type": "code",
   "execution_count": 99,
   "metadata": {},
   "outputs": [
    {
     "name": "stdout",
     "output_type": "stream",
     "text": [
      "5.477225575051661\n",
      "5.477225575051661\n"
     ]
    }
   ],
   "source": [
    "x=np.array([1,2,3,4])\n",
    "\n",
    "def Norm2Length(x):\n",
    "    return np.sqrt(Dot(x,x))\n",
    "\n",
    "print(Norm2Length(x))\n",
    "print(length(x))"
   ]
  },
  {
   "cell_type": "code",
   "execution_count": null,
   "metadata": {},
   "outputs": [],
   "source": []
  }
 ],
 "metadata": {
  "kernelspec": {
   "display_name": "Python 3",
   "language": "python",
   "name": "python3"
  },
  "language_info": {
   "codemirror_mode": {
    "name": "ipython",
    "version": 3
   },
   "file_extension": ".py",
   "mimetype": "text/x-python",
   "name": "python",
   "nbconvert_exporter": "python",
   "pygments_lexer": "ipython3",
   "version": "3.7.1"
  }
 },
 "nbformat": 4,
 "nbformat_minor": 2
}
