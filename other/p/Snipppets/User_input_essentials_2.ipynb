{
 "cells": [
  {
   "cell_type": "markdown",
   "id": "a66b0fea-7113-4c94-a493-e7177c1384dc",
   "metadata": {},
   "source": [
    "See https://zahid-parvez.medium.com/ux-in-jupyter-user-input-essentials-part-2-3a017f022134 for details"
   ]
  },
  {
   "cell_type": "code",
   "execution_count": 1,
   "id": "50d01d82-3009-4864-9f29-36763186b42f",
   "metadata": {},
   "outputs": [],
   "source": [
    "from ipywidgets import interact, widgets"
   ]
  },
  {
   "cell_type": "markdown",
   "id": "3dc5ad3a-fa38-487c-995c-2e34f28e49ee",
   "metadata": {},
   "source": [
    "# Display an image"
   ]
  },
  {
   "cell_type": "code",
   "execution_count": 2,
   "id": "95fdf0de-2895-461a-98dc-b48ab3b31b8b",
   "metadata": {},
   "outputs": [
    {
     "data": {
      "application/vnd.jupyter.widget-view+json": {
       "model_id": "be64e2425c2a463991e79bfd6a374b22",
       "version_major": 2,
       "version_minor": 0
      },
      "text/plain": [
       "Image(value=b'\\xff\\xd8\\xff\\xe0\\x00\\x10JFIF\\x00\\x01\\x01\\x00\\x00\\x01\\x00\\x01\\x00\\x00\\xff\\xed\\x00\\x84Photoshop 3.…"
      ]
     },
     "execution_count": 2,
     "metadata": {},
     "output_type": "execute_result"
    }
   ],
   "source": [
    "file = open(\"original.jpg\", \"rb\")\n",
    "image = file.read()\n",
    "widgets.Image(\n",
    "    value=image,\n",
    "    format='jpg',\n",
    "    width=200,\n",
    "    height=200,\n",
    ")"
   ]
  },
  {
   "cell_type": "markdown",
   "id": "45eb1b3f-9269-4ce9-9822-0d4e69e59a05",
   "metadata": {},
   "source": [
    "# Buttons\n",
    "## Basic button"
   ]
  },
  {
   "cell_type": "code",
   "execution_count": 3,
   "id": "f9b756bb-74ed-4d5a-b105-d00afd0f1e57",
   "metadata": {},
   "outputs": [
    {
     "data": {
      "application/vnd.jupyter.widget-view+json": {
       "model_id": "f7d1eb2fae76414da307657f383ab26d",
       "version_major": 2,
       "version_minor": 0
      },
      "text/plain": [
       "Button(description='Click me', icon='check', style=ButtonStyle(), tooltip='Nice tooltip!')"
      ]
     },
     "execution_count": 3,
     "metadata": {},
     "output_type": "execute_result"
    }
   ],
   "source": [
    "button = widgets.Button(\n",
    "    description='Click me',\n",
    "    disabled=False,\n",
    "    button_style='',\n",
    "    tooltip='Nice tooltip!',\n",
    "    icon='check'\n",
    ")\n",
    "button"
   ]
  },
  {
   "cell_type": "markdown",
   "id": "394a9f0d-0711-4420-a80e-bbb8b7b8fb12",
   "metadata": {},
   "source": [
    "## Button with function call"
   ]
  },
  {
   "cell_type": "code",
   "execution_count": 4,
   "id": "658832c4-cefe-4657-9550-9af08b9d5638",
   "metadata": {},
   "outputs": [
    {
     "data": {
      "application/vnd.jupyter.widget-view+json": {
       "model_id": "8e5a8381a4ca4b2fb66f8668d59ad4e3",
       "version_major": 2,
       "version_minor": 0
      },
      "text/plain": [
       "Button(description='Click me', icon='check', style=ButtonStyle(), tooltip='abcd')"
      ]
     },
     "metadata": {},
     "output_type": "display_data"
    },
    {
     "data": {
      "application/vnd.jupyter.widget-view+json": {
       "model_id": "7f99ab1f52584bcfadaa94d50f56a244",
       "version_major": 2,
       "version_minor": 0
      },
      "text/plain": [
       "Output()"
      ]
     },
     "metadata": {},
     "output_type": "display_data"
    }
   ],
   "source": [
    "# define a function for the button to call\n",
    "def button_click_event(b):\n",
    "    with output:\n",
    "        print ('Clicked the button!')\n",
    "\n",
    "# get a reference to the widget output\n",
    "output = widgets.Output()\n",
    "\n",
    "button = widgets.Button(\n",
    "    description='Click me',\n",
    "    disabled=False,\n",
    "    button_style='',\n",
    "    tooltip='abcd',\n",
    "    icon='check'\n",
    ")\n",
    "\n",
    "#bind the button_click_event to the button call event\n",
    "button.on_click(button_click_event)\n",
    "\n",
    "#display the button\n",
    "display(button, output)"
   ]
  },
  {
   "cell_type": "markdown",
   "id": "8390bc9a-052c-4c57-b9ad-915253d04f72",
   "metadata": {},
   "source": [
    "# Button with function call & inputs"
   ]
  },
  {
   "cell_type": "code",
   "execution_count": 5,
   "id": "3baada3a-89d5-487f-86d0-7f19f7409a59",
   "metadata": {},
   "outputs": [
    {
     "data": {
      "application/vnd.jupyter.widget-view+json": {
       "model_id": "71bde73289f649eb84df487af8b87fc2",
       "version_major": 2,
       "version_minor": 0
      },
      "text/plain": [
       "Button(description='Click me', icon='check', style=ButtonStyle(), tooltip='abcd')"
      ]
     },
     "metadata": {},
     "output_type": "display_data"
    },
    {
     "data": {
      "application/vnd.jupyter.widget-view+json": {
       "model_id": "85f94d27e5e14b70b868b64f600bcdfe",
       "version_major": 2,
       "version_minor": 0
      },
      "text/plain": [
       "Output()"
      ]
     },
     "metadata": {},
     "output_type": "display_data"
    }
   ],
   "source": [
    "import functools\n",
    "\n",
    "# define a function for the button to call\n",
    "def button_click_event(b, someInput='default'):\n",
    "    with output:\n",
    "        print (f'Clicked the button with input: {someInput}')\n",
    "        \n",
    "        \n",
    "# get a reference to the widget output\n",
    "output = widgets.Output()\n",
    "\n",
    "button = widgets.Button(\n",
    "    description='Click me',\n",
    "    disabled=False,\n",
    "    button_style='',\n",
    "    tooltip='abcd',\n",
    "    icon='check'\n",
    ")\n",
    "\n",
    "#bind the button_click_event to the button call event\n",
    "button.on_click(functools.partial(button_click_event,someInput='test'))\n",
    "\n",
    "#display the button\n",
    "display(button, output)"
   ]
  },
  {
   "cell_type": "markdown",
   "id": "7a8f79f8-9eff-4615-9594-df592140da1b",
   "metadata": {},
   "source": [
    "## Button with function call & output"
   ]
  },
  {
   "cell_type": "code",
   "execution_count": 6,
   "id": "67118d65-9923-4c76-a864-420a74de3dc7",
   "metadata": {},
   "outputs": [
    {
     "name": "stdout",
     "output_type": "stream",
     "text": [
      "the button has not been reset yet\n"
     ]
    },
    {
     "data": {
      "application/vnd.jupyter.widget-view+json": {
       "model_id": "6f97d31e1d5d4916a61bf59e7258cae0",
       "version_major": 2,
       "version_minor": 0
      },
      "text/plain": [
       "Button(description='Click me', icon='check', style=ButtonStyle(), tooltip='abcd')"
      ]
     },
     "metadata": {},
     "output_type": "display_data"
    },
    {
     "data": {
      "application/vnd.jupyter.widget-view+json": {
       "model_id": "430d14910f5944a0bc55f601e882fb4d",
       "version_major": 2,
       "version_minor": 0
      },
      "text/plain": [
       "Output()"
      ]
     },
     "metadata": {},
     "output_type": "display_data"
    }
   ],
   "source": [
    "# define a variable that will be reset when the button is pressed\n",
    "buttonOutput = 'the button has not been reset yet'\n",
    "\n",
    "# define a function for the button to call\n",
    "def button_click_event(b):\n",
    "    with output:\n",
    "        global buttonOutput\n",
    "        \n",
    "        buttonOutput = \"the button click event set this value\"\n",
    "        \n",
    "        print ('Clicked the button!')\n",
    "\n",
    "# get a reference to the widget output\n",
    "output = widgets.Output()\n",
    "\n",
    "button = widgets.Button(\n",
    "    description='Click me',\n",
    "    disabled=False,\n",
    "    button_style='',\n",
    "    tooltip='abcd',\n",
    "    icon='check'\n",
    ")\n",
    "\n",
    "#bind the button_click_event to the button call event\n",
    "button.on_click(button_click_event)\n",
    "\n",
    "# show the current state of the output\n",
    "print(buttonOutput)\n",
    "\n",
    "#display the button\n",
    "display(button, output)"
   ]
  },
  {
   "cell_type": "code",
   "execution_count": 7,
   "id": "12b97db7-878e-4823-8d63-81fd5e2e107b",
   "metadata": {},
   "outputs": [
    {
     "name": "stdout",
     "output_type": "stream",
     "text": [
      "the button click event set this value\n"
     ]
    }
   ],
   "source": [
    "# Value after the button has been pressed\n",
    "print(buttonOutput)"
   ]
  },
  {
   "cell_type": "markdown",
   "id": "80dd421f-f10e-435b-8136-abadd310df39",
   "metadata": {},
   "source": [
    "## File upload / selector"
   ]
  },
  {
   "cell_type": "code",
   "execution_count": 23,
   "id": "4089c65d-4f36-4a3a-bd85-a0c118906431",
   "metadata": {},
   "outputs": [
    {
     "data": {
      "application/vnd.jupyter.widget-view+json": {
       "model_id": "84e0116dbdab4b649ae24bc61c0ef402",
       "version_major": 2,
       "version_minor": 0
      },
      "text/plain": [
       "FileUpload(value=(), accept='image/*', description='Upload')"
      ]
     },
     "execution_count": 23,
     "metadata": {},
     "output_type": "execute_result"
    }
   ],
   "source": [
    "uploader = widgets.FileUpload(\n",
    "    accept='image/*',\n",
    "    multiple=False\n",
    ")\n",
    "uploader"
   ]
  },
  {
   "cell_type": "code",
   "execution_count": 25,
   "id": "6233dfda-4bc3-4e61-b6e3-47d4f698ae4a",
   "metadata": {},
   "outputs": [
    {
     "data": {
      "text/plain": [
       "({'name': 'original.jpg',\n",
       "  'type': 'image/jpeg',\n",
       "  'size': 591092,\n",
       "  'content': <memory at 0x00000256602A1D00>,\n",
       "  'last_modified': datetime.datetime(2023, 1, 6, 0, 46, 35, 123000, tzinfo=datetime.timezone.utc)},)"
      ]
     },
     "execution_count": 25,
     "metadata": {},
     "output_type": "execute_result"
    }
   ],
   "source": [
    "uploader.value"
   ]
  },
  {
   "cell_type": "code",
   "execution_count": 26,
   "id": "3d83c547-cb2c-4d72-88b7-09d3b8e8d249",
   "metadata": {},
   "outputs": [
    {
     "data": {
      "application/vnd.jupyter.widget-view+json": {
       "model_id": "e33e6e07ec034125b6404d529d769b6b",
       "version_major": 2,
       "version_minor": 0
      },
      "text/plain": [
       "Image(value=b'\\xff\\xd8\\xff\\xe0\\x00\\x10JFIF\\x00\\x01\\x01\\x00\\x00\\x01\\x00\\x01\\x00\\x00\\xff\\xed\\x00\\x84Photoshop 3.…"
      ]
     },
     "execution_count": 26,
     "metadata": {},
     "output_type": "execute_result"
    }
   ],
   "source": [
    "widgets.Image(\n",
    "    value=uploader.value[0].content,\n",
    "    format='jpg',\n",
    "    width=200,\n",
    "    height=200,\n",
    ")"
   ]
  },
  {
   "cell_type": "code",
   "execution_count": null,
   "id": "58c66500-3cab-4d16-bc29-3eb0c13d8426",
   "metadata": {},
   "outputs": [],
   "source": []
  }
 ],
 "metadata": {
  "kernelspec": {
   "display_name": "Python 3 (ipykernel)",
   "language": "python",
   "name": "python3"
  },
  "language_info": {
   "codemirror_mode": {
    "name": "ipython",
    "version": 3
   },
   "file_extension": ".py",
   "mimetype": "text/x-python",
   "name": "python",
   "nbconvert_exporter": "python",
   "pygments_lexer": "ipython3",
   "version": "3.8.15"
  }
 },
 "nbformat": 4,
 "nbformat_minor": 5
}
