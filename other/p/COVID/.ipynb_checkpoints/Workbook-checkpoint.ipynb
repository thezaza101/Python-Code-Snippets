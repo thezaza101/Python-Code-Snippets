{
 "cells": [
  {
   "cell_type": "code",
   "execution_count": 62,
   "metadata": {},
   "outputs": [],
   "source": [
    "# Import the relevent packages\n",
    "import urllib.request\n",
    "from datetime import date\n",
    "from pathlib import Path\n",
    "import pandas as pd\n",
    "import numpy as np\n",
    "import datetime\n",
    "\n",
    "import ipywidgets as widgets"
   ]
  },
  {
   "cell_type": "markdown",
   "metadata": {},
   "source": [
    "# Download the dataset"
   ]
  },
  {
   "cell_type": "code",
   "execution_count": 19,
   "metadata": {},
   "outputs": [
    {
     "name": "stdout",
     "output_type": "stream",
     "text": [
      "Downloaded latest data\n"
     ]
    }
   ],
   "source": [
    "# Download the dataset\n",
    "# This only downloads a new file once a day\n",
    "\n",
    "## Make a new folder for each day's data\n",
    "todayfolder = date.today().strftime(\"%d/%m/%Y\").replace('/','.')\n",
    "Path(todayfolder).mkdir(parents=True, exist_ok=True)\n",
    "\n",
    "# Reference to file names being created\n",
    "datafiles = {'confirmed':f'{todayfolder}/time_series_2019-ncov-Confirmed.csv',\n",
    "            'deaths':f'{todayfolder}/time_series_2019-ncov-Deaths.csv',\n",
    "            'recoverd':f'{todayfolder}/time_series_2019-ncov-Recovered.csv'}\n",
    "\n",
    "# if the data has not been downloaded, download it\n",
    "\n",
    "if not Path(datafiles['confirmed']).is_file():\n",
    "    urllib.request.urlretrieve('https://data.humdata.org/hxlproxy/api/data-preview.csv?url=https%3A%2F%2Fraw.githubusercontent.com%2FCSSEGISandData%2FCOVID-19%2Fmaster%2Fcsse_covid_19_data%2Fcsse_covid_19_time_series%2Ftime_series_covid19_confirmed_global.csv&filename=time_series_covid19_confirmed_global.csv', datafiles['confirmed'])\n",
    "\n",
    "if not Path(datafiles['deaths']).is_file():\n",
    "    urllib.request.urlretrieve('https://data.humdata.org/hxlproxy/api/data-preview.csv?url=https%3A%2F%2Fraw.githubusercontent.com%2FCSSEGISandData%2FCOVID-19%2Fmaster%2Fcsse_covid_19_data%2Fcsse_covid_19_time_series%2Ftime_series_covid19_deaths_global.csv&filename=time_series_covid19_deaths_global.csv', datafiles['deaths'])\n",
    "\n",
    "if not Path(datafiles['recoverd']).is_file():\n",
    "    urllib.request.urlretrieve('https://data.humdata.org/hxlproxy/api/data-preview.csv?url=https%3A%2F%2Fraw.githubusercontent.com%2FCSSEGISandData%2FCOVID-19%2Fmaster%2Fcsse_covid_19_data%2Fcsse_covid_19_time_series%2Ftime_series_covid19_recovered_global.csv&filename=time_series_covid19_recovered_global.csv', datafiles['recoverd'])\n",
    "\n",
    "print('Downloaded latest data')\n"
   ]
  },
  {
   "cell_type": "markdown",
   "metadata": {},
   "source": [
    "# Read the downloaded data"
   ]
  },
  {
   "cell_type": "code",
   "execution_count": 30,
   "metadata": {},
   "outputs": [],
   "source": [
    "# Read the data files\n",
    "\n",
    "conf_df = pd.read_csv(datafiles['confirmed'])\n",
    "death_df = pd.read_csv(datafiles['deaths'])\n",
    "cure_df = pd.read_csv(datafiles['recoverd'])\n",
    "\n",
    "# Add identification for each dataset\n",
    "dateCols = conf_df.columns[conf_df.columns.get_loc(\"Long\")+1:]\n",
    "conf_df['Attribute'] = 'confirmed'\n",
    "death_df['Attribute'] = 'deaths'\n",
    "cure_df['Attribute'] = 'cured'\n",
    "\n",
    "# Change the order of columns for each dataset\n",
    "newCols = ['Country/Region','Province/State','Attribute','Lat','Long']\n",
    "conf_df = conf_df[[*newCols, *dateCols]]\n",
    "death_df = death_df[[*newCols, *dateCols]]\n",
    "cure_df = cure_df[[*newCols, *dateCols]]"
   ]
  },
  {
   "cell_type": "markdown",
   "metadata": {},
   "source": [
    "# Set up widgets"
   ]
  },
  {
   "cell_type": "code",
   "execution_count": 41,
   "metadata": {},
   "outputs": [
    {
     "data": {
      "application/vnd.jupyter.widget-view+json": {
       "model_id": "335d7eab4f34404fbab957084d1b5a50",
       "version_major": 2,
       "version_minor": 0
      },
      "text/plain": [
       "Dropdown(description='Country:', index=8, options=('Afghanistan', 'Albania', 'Algeria', 'Andorra', 'Angola', '…"
      ]
     },
     "metadata": {},
     "output_type": "display_data"
    }
   ],
   "source": [
    "countryList = conf_df['Country/Region'].unique()\n",
    "selectedCountry = widgets.Dropdown(\n",
    "    options=countryList,\n",
    "    value='Australia',\n",
    "    description='Country:',\n",
    "    disabled=False,\n",
    ")\n",
    "selectedCountry"
   ]
  },
  {
   "cell_type": "code",
   "execution_count": 42,
   "metadata": {},
   "outputs": [
    {
     "data": {
      "application/vnd.jupyter.widget-view+json": {
       "model_id": "f6d9b93cc7ea40c98117060b550dc3d5",
       "version_major": 2,
       "version_minor": 0
      },
      "text/plain": [
       "Dropdown(description='Country:', options=('Australian Capital Territory', 'New South Wales', 'Northern Territo…"
      ]
     },
     "metadata": {},
     "output_type": "display_data"
    }
   ],
   "source": [
    "stateList = conf_df[conf_df['Country/Region'] == selectedCountry.value]['Province/State'].unique()\n",
    "selectedState = widgets.Dropdown(\n",
    "    options=stateList,\n",
    "    description='Country:',\n",
    "    disabled=False,\n",
    ")\n",
    "selectedState"
   ]
  },
  {
   "cell_type": "code",
   "execution_count": 45,
   "metadata": {},
   "outputs": [],
   "source": [
    "# Calculate the number of new cases per day\n",
    "conf_new_df = conf_df.copy()\n",
    "conf_new_df[dateCols] = conf_new_df[dateCols].iloc[:,:].rolling(window=2, axis = 1).apply(lambda x: x[-1] - x[0],raw=True)\n"
   ]
  },
  {
   "cell_type": "code",
   "execution_count": 87,
   "metadata": {},
   "outputs": [
    {
     "data": {
      "application/vnd.jupyter.widget-view+json": {
       "model_id": "7c31c8b4a84147c28afc63a8231e6677",
       "version_major": 2,
       "version_minor": 0
      },
      "text/plain": [
       "SelectionRangeSlider(description='Dates', index=(0, 133), layout=Layout(width='400px'), options=((' 22 Jan 202…"
      ]
     },
     "metadata": {},
     "output_type": "display_data"
    }
   ],
   "source": [
    "start_date = datetime.datetime.strptime(conf_df.columns[5:][0], '%m/%d/%y')\n",
    "end_date = datetime.datetime.strptime(conf_df.columns[5:][-1], '%m/%d/%y')\n",
    "dateRange = pd.date_range(start_date, end_date, freq='D')\n",
    "dateRangetxt = [(date.strftime(' %d %b %y '), date) for date in dateRange]\n",
    "dtrindex = (0, len(dateRangetxt)-1)\n",
    "\n",
    "date_range_slider = widgets.SelectionRangeSlider(\n",
    "    options=dateRangetxt,\n",
    "    index=dtrindex,\n",
    "    description='Dates',\n",
    "    orientation='horizontal',\n",
    "    layout={'width': '400px'}\n",
    ")\n",
    "\n",
    "date_range_slider\n"
   ]
  },
  {
   "cell_type": "code",
   "execution_count": null,
   "metadata": {},
   "outputs": [],
   "source": []
  },
  {
   "cell_type": "code",
   "execution_count": null,
   "metadata": {},
   "outputs": [],
   "source": []
  },
  {
   "cell_type": "code",
   "execution_count": 60,
   "metadata": {},
   "outputs": [],
   "source": [
    "data = conf_new_df[conf_new_df['Country/Region'] == selectedCountry.value]\n",
    "y = data.columns[5:]"
   ]
  },
  {
   "cell_type": "code",
   "execution_count": 74,
   "metadata": {},
   "outputs": [
    {
     "data": {
      "application/vnd.jupyter.widget-view+json": {
       "model_id": "7871ec7a5f7f4ad6ac40f9e3d1679fff",
       "version_major": 2,
       "version_minor": 0
      },
      "text/plain": [
       "DatePicker(value=datetime.datetime(2020, 1, 22, 0, 0), description='Start:')"
      ]
     },
     "metadata": {},
     "output_type": "display_data"
    }
   ],
   "source": [
    "dtPickStart = widgets.DatePicker(\n",
    " description= 'Start:',\n",
    " value = datetime.datetime.strptime(conf_df.columns[5:][0], '%m/%d/%y')\n",
    " )\n",
    "dtPickStart"
   ]
  },
  {
   "cell_type": "code",
   "execution_count": null,
   "metadata": {},
   "outputs": [],
   "source": []
  },
  {
   "cell_type": "code",
   "execution_count": null,
   "metadata": {},
   "outputs": [],
   "source": []
  },
  {
   "cell_type": "code",
   "execution_count": 68,
   "metadata": {},
   "outputs": [
    {
     "data": {
      "text/plain": [
       "'1/22/20'"
      ]
     },
     "execution_count": 68,
     "metadata": {},
     "output_type": "execute_result"
    }
   ],
   "source": [
    "y[0].split()"
   ]
  },
  {
   "cell_type": "code",
   "execution_count": null,
   "metadata": {},
   "outputs": [],
   "source": []
  },
  {
   "cell_type": "code",
   "execution_count": 61,
   "metadata": {},
   "outputs": [
    {
     "data": {
      "text/plain": [
       "Index(['1/22/20', '1/23/20', '1/24/20', '1/25/20', '1/26/20', '1/27/20',\n",
       "       '1/28/20', '1/29/20', '1/30/20', '1/31/20',\n",
       "       ...\n",
       "       '5/25/20', '5/26/20', '5/27/20', '5/28/20', '5/29/20', '5/30/20',\n",
       "       '5/31/20', '6/1/20', '6/2/20', '6/3/20'],\n",
       "      dtype='object', length=134)"
      ]
     },
     "execution_count": 61,
     "metadata": {},
     "output_type": "execute_result"
    }
   ],
   "source": [
    "y"
   ]
  },
  {
   "cell_type": "code",
   "execution_count": null,
   "metadata": {},
   "outputs": [],
   "source": []
  },
  {
   "cell_type": "code",
   "execution_count": 55,
   "metadata": {},
   "outputs": [
    {
     "data": {
      "text/plain": [
       "Index(['Country/Region', 'Province/State', 'Attribute', 'Lat', 'Long',\n",
       "       '1/22/20', '1/23/20', '1/24/20', '1/25/20', '1/26/20',\n",
       "       ...\n",
       "       '5/25/20', '5/26/20', '5/27/20', '5/28/20', '5/29/20', '5/30/20',\n",
       "       '5/31/20', '6/1/20', '6/2/20', '6/3/20'],\n",
       "      dtype='object', length=139)"
      ]
     },
     "execution_count": 55,
     "metadata": {},
     "output_type": "execute_result"
    }
   ],
   "source": [
    "data.columns"
   ]
  },
  {
   "cell_type": "code",
   "execution_count": null,
   "metadata": {},
   "outputs": [],
   "source": []
  },
  {
   "cell_type": "code",
   "execution_count": null,
   "metadata": {},
   "outputs": [],
   "source": []
  },
  {
   "cell_type": "code",
   "execution_count": null,
   "metadata": {},
   "outputs": [],
   "source": []
  },
  {
   "cell_type": "code",
   "execution_count": null,
   "metadata": {},
   "outputs": [],
   "source": []
  },
  {
   "cell_type": "code",
   "execution_count": null,
   "metadata": {},
   "outputs": [],
   "source": []
  },
  {
   "cell_type": "code",
   "execution_count": 8,
   "metadata": {},
   "outputs": [
    {
     "ename": "ValueError",
     "evalue": "operands could not be broadcast together with shapes (266,134) (253,134) ",
     "output_type": "error",
     "traceback": [
      "\u001b[1;31m---------------------------------------------------------------------------\u001b[0m",
      "\u001b[1;31mValueError\u001b[0m                                Traceback (most recent call last)",
      "\u001b[1;32m<ipython-input-8-924630551320>\u001b[0m in \u001b[0;36m<module>\u001b[1;34m\u001b[0m\n\u001b[0;32m      4\u001b[0m \u001b[1;31m# Get the number of active cases\u001b[0m\u001b[1;33m\u001b[0m\u001b[1;33m\u001b[0m\u001b[1;33m\u001b[0m\u001b[0m\n\u001b[0;32m      5\u001b[0m \u001b[0mactive_df\u001b[0m \u001b[1;33m=\u001b[0m \u001b[0mconf_df\u001b[0m\u001b[1;33m.\u001b[0m\u001b[0mcopy\u001b[0m\u001b[1;33m(\u001b[0m\u001b[1;33m)\u001b[0m\u001b[1;33m\u001b[0m\u001b[1;33m\u001b[0m\u001b[0m\n\u001b[1;32m----> 6\u001b[1;33m \u001b[0mactive_df\u001b[0m\u001b[1;33m[\u001b[0m\u001b[0mdateCols\u001b[0m\u001b[1;33m]\u001b[0m \u001b[1;33m=\u001b[0m \u001b[0mactive_df\u001b[0m\u001b[1;33m[\u001b[0m\u001b[0mdateCols\u001b[0m\u001b[1;33m]\u001b[0m\u001b[1;33m.\u001b[0m\u001b[0mvalues\u001b[0m \u001b[1;33m-\u001b[0m \u001b[0mdeath_df\u001b[0m\u001b[1;33m[\u001b[0m\u001b[0mdateCols\u001b[0m\u001b[1;33m]\u001b[0m\u001b[1;33m.\u001b[0m\u001b[0mvalues\u001b[0m \u001b[1;33m-\u001b[0m \u001b[0mcure_df\u001b[0m\u001b[1;33m[\u001b[0m\u001b[0mdateCols\u001b[0m\u001b[1;33m]\u001b[0m\u001b[1;33m.\u001b[0m\u001b[0mvalues\u001b[0m\u001b[1;33m\u001b[0m\u001b[1;33m\u001b[0m\u001b[0m\n\u001b[0m\u001b[0;32m      7\u001b[0m \u001b[1;33m\u001b[0m\u001b[0m\n\u001b[0;32m      8\u001b[0m \u001b[1;31m# Calculate the n day moving average\u001b[0m\u001b[1;33m\u001b[0m\u001b[1;33m\u001b[0m\u001b[1;33m\u001b[0m\u001b[0m\n",
      "\u001b[1;31mValueError\u001b[0m: operands could not be broadcast together with shapes (266,134) (253,134) "
     ]
    }
   ],
   "source": [
    "#df = df[df['Country/Region'] == selectedCountry.value]\n",
    "aggregate_window = 7\n",
    "\n",
    "# Get the number of active cases\n",
    "active_df = conf_df.copy()\n",
    "active_df[dateCols] = active_df[dateCols].values - death_df[dateCols].values - cure_df[dateCols].values\n",
    "\n",
    "# Calculate the n day moving average\n",
    "avr_window = aggregate_window\n",
    "conf_avr_df = conf_df.copy()\n",
    "conf_avr_df[dateCols] = conf_avr_df[dateCols].iloc[:,:].rolling(window=avr_window, axis = 1).mean()\n",
    "\n",
    "# Calculate the number of new cases per day\n",
    "conf_new_df = conf_df.copy()\n",
    "conf_new_df[dateCols] = conf_new_df[dateCols].iloc[:,:].rolling(window=2, axis = 1).apply(lambda x: x[-1] - x[0],raw=True)\n",
    "\n",
    "# Calculate the n day diffrence\n",
    "diff_Window = aggregate_window\n",
    "conf_nday_diff_df = conf_df.copy()\n",
    "conf_nday_diff_df[dateCols] = conf_nday_diff_df[dateCols].iloc[:,:].rolling(window=aggregate_window, axis = 1).apply(lambda x: x[-1] - x[0],raw=True)\n",
    "\n",
    "# Calculate the growth rate per day\n",
    "conf_new_pct_df = conf_df.copy()\n",
    "conf_new_pct_df[dateCols] = conf_new_pct_df[dateCols].iloc[:,:].rolling(window=2, axis = 1).apply(lambda x: (x[1] - x[0])/x[0],raw=True)\n",
    "\n",
    "\n",
    "# Calculate the n day average growth rate\n",
    "avr_nday_growth_window = aggregate_window\n",
    "conf_nday_avr_new_df = conf_new_pct_df.copy()\n",
    "conf_nday_avr_new_df[dateCols] = conf_nday_avr_new_df[dateCols].iloc[:,:].rolling(window=aggregate_window, axis = 1).mean()\n"
   ]
  },
  {
   "cell_type": "code",
   "execution_count": 14,
   "metadata": {},
   "outputs": [
    {
     "data": {
      "application/vnd.jupyter.widget-view+json": {
       "model_id": "b1f072ffb96846988aa9e4e1e96a7e8f",
       "version_major": 2,
       "version_minor": 0
      },
      "text/plain": [
       "Dropdown(description='Country:', index=8, options=('Afghanistan', 'Albania', 'Algeria', 'Andorra', 'Angola', '…"
      ]
     },
     "metadata": {},
     "output_type": "display_data"
    }
   ],
   "source": []
  },
  {
   "cell_type": "code",
   "execution_count": 15,
   "metadata": {},
   "outputs": [
    {
     "ename": "NameError",
     "evalue": "name 'conf_nday_avr_new_df' is not defined",
     "output_type": "error",
     "traceback": [
      "\u001b[1;31m---------------------------------------------------------------------------\u001b[0m",
      "\u001b[1;31mNameError\u001b[0m                                 Traceback (most recent call last)",
      "\u001b[1;32m<ipython-input-15-009b54ec34f6>\u001b[0m in \u001b[0;36m<module>\u001b[1;34m\u001b[0m\n\u001b[1;32m----> 1\u001b[1;33m \u001b[0mconf_nday_avr_new_df\u001b[0m\u001b[1;33m[\u001b[0m\u001b[0mconf_new_pct_df\u001b[0m\u001b[1;33m[\u001b[0m\u001b[1;34m'Country/Region'\u001b[0m\u001b[1;33m]\u001b[0m \u001b[1;33m==\u001b[0m \u001b[0mselectedCountry\u001b[0m\u001b[1;33m.\u001b[0m\u001b[0mvalue\u001b[0m\u001b[1;33m]\u001b[0m\u001b[1;33m\u001b[0m\u001b[1;33m\u001b[0m\u001b[0m\n\u001b[0m",
      "\u001b[1;31mNameError\u001b[0m: name 'conf_nday_avr_new_df' is not defined"
     ]
    }
   ],
   "source": [
    "conf_nday_avr_new_df[conf_new_pct_df['Country/Region'] == selectedCountry.value]"
   ]
  },
  {
   "cell_type": "code",
   "execution_count": null,
   "metadata": {},
   "outputs": [],
   "source": []
  },
  {
   "cell_type": "code",
   "execution_count": null,
   "metadata": {},
   "outputs": [],
   "source": []
  },
  {
   "cell_type": "code",
   "execution_count": null,
   "metadata": {},
   "outputs": [],
   "source": []
  },
  {
   "cell_type": "code",
   "execution_count": null,
   "metadata": {},
   "outputs": [],
   "source": []
  },
  {
   "cell_type": "code",
   "execution_count": null,
   "metadata": {},
   "outputs": [],
   "source": []
  },
  {
   "cell_type": "code",
   "execution_count": null,
   "metadata": {},
   "outputs": [],
   "source": []
  },
  {
   "cell_type": "code",
   "execution_count": null,
   "metadata": {},
   "outputs": [],
   "source": []
  }
 ],
 "metadata": {
  "kernelspec": {
   "display_name": "Python 3",
   "language": "python",
   "name": "python3"
  },
  "language_info": {
   "codemirror_mode": {
    "name": "ipython",
    "version": 3
   },
   "file_extension": ".py",
   "mimetype": "text/x-python",
   "name": "python",
   "nbconvert_exporter": "python",
   "pygments_lexer": "ipython3",
   "version": "3.7.4"
  }
 },
 "nbformat": 4,
 "nbformat_minor": 4
}
